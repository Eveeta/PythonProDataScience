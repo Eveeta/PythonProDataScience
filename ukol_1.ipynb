{
 "cells": [
  {
   "cell_type": "code",
   "execution_count": 23,
   "metadata": {},
   "outputs": [
    {
     "name": "stdout",
     "output_type": "stream",
     "text": [
      "           CR        DA        FL       OPM        RT       TAT        DE  \\\n",
      "CR   1.000000 -0.225917 -0.179232  0.284529 -0.151203 -0.123665 -0.141136   \n",
      "DA  -0.225917  1.000000  0.340320  0.015032  0.206620 -0.083691  0.464786   \n",
      "FL  -0.179232  0.340320  1.000000 -0.112430 -0.076335  0.156169  0.968612   \n",
      "OPM  0.284529  0.015032 -0.112430  1.000000  0.051672 -0.298701 -0.050014   \n",
      "RT  -0.151203  0.206620 -0.076335  0.051672  1.000000  0.206580 -0.065267   \n",
      "TAT -0.123665 -0.083691  0.156169 -0.298701  0.206580  1.000000  0.094869   \n",
      "DE  -0.141136  0.464786  0.968612 -0.050014 -0.065267  0.094869  1.000000   \n",
      "Y   -0.018690  0.164599  0.759323  0.051308 -0.046290  0.301222  0.724604   \n",
      "PT  -0.040483 -0.120993  0.032588  0.021409  0.097708  0.017872 -0.025348   \n",
      "\n",
      "            Y        PT  \n",
      "CR  -0.018690 -0.040483  \n",
      "DA   0.164599 -0.120993  \n",
      "FL   0.759323  0.032588  \n",
      "OPM  0.051308  0.021409  \n",
      "RT  -0.046290  0.097708  \n",
      "TAT  0.301222  0.017872  \n",
      "DE   0.724604 -0.025348  \n",
      "Y    1.000000 -0.001363  \n",
      "PT  -0.001363  1.000000  \n"
     ]
    }
   ],
   "source": [
    "import pandas as pd\n",
    "\n",
    "data = pd.read_csv(\"df.csv\")\n",
    "data_corr = data.drop(columns=[\"Company\", \"Sector\"])\n",
    "data_corr_upr = data_corr.corr()\n",
    "print(data_corr_upr)\n",
    "\n",
    "# Největší vliv na indikátor akcie Y má ukazatel FL - finanční páka."
   ]
  },
  {
   "cell_type": "code",
   "execution_count": 24,
   "metadata": {},
   "outputs": [
    {
     "name": "stdout",
     "output_type": "stream",
     "text": [
      "                            OLS Regression Results                            \n",
      "==============================================================================\n",
      "Dep. Variable:                      Y   R-squared:                       0.664\n",
      "Model:                            OLS   Adj. R-squared:                  0.635\n",
      "Method:                 Least Squares   F-statistic:                     22.52\n",
      "Date:                Mon, 13 Nov 2023   Prob (F-statistic):           1.45e-18\n",
      "Time:                        00:13:43   Log-Likelihood:                -375.94\n",
      "No. Observations:                 100   AIC:                             769.9\n",
      "Df Residuals:                      91   BIC:                             793.3\n",
      "Df Model:                           8                                         \n",
      "Covariance Type:            nonrobust                                         \n",
      "==============================================================================\n",
      "                 coef    std err          t      P>|t|      [0.025      0.975]\n",
      "------------------------------------------------------------------------------\n",
      "Intercept    -11.0176      5.347     -2.061      0.042     -21.638      -0.397\n",
      "CR             1.5014      1.240      1.211      0.229      -0.961       3.964\n",
      "DA            -5.2206      9.370     -0.557      0.579     -23.834      13.392\n",
      "FL             3.0104      1.060      2.840      0.006       0.905       5.116\n",
      "OPM           23.4665      8.076      2.906      0.005       7.425      39.508\n",
      "RT            -0.0063      0.021     -0.300      0.765      -0.048       0.035\n",
      "TAT            8.4254      2.351      3.584      0.001       3.756      13.095\n",
      "DE            -0.7283      2.066     -0.352      0.725      -4.833       3.376\n",
      "PT            -0.0644      0.096     -0.669      0.505      -0.256       0.127\n",
      "==============================================================================\n",
      "Omnibus:                       29.136   Durbin-Watson:                   1.900\n",
      "Prob(Omnibus):                  0.000   Jarque-Bera (JB):              101.551\n",
      "Skew:                           0.881   Prob(JB):                     8.88e-23\n",
      "Kurtosis:                       7.611   Cond. No.                         592.\n",
      "==============================================================================\n",
      "\n",
      "Notes:\n",
      "[1] Standard Errors assume that the covariance matrix of the errors is correctly specified.\n"
     ]
    }
   ],
   "source": [
    "import statsmodels.api as sm\n",
    "import statsmodels.formula.api as smf\n",
    "\n",
    "formula = \"Y ~ CR + DA + FL + OPM + RT + TAT + DE + PT\"\n",
    "mod = smf.ols(formula=formula, data=data)\n",
    "res = mod.fit()\n",
    "res.summary()\n",
    "\n",
    "print(res.summary())\n",
    "\n",
    "\n",
    "\n"
   ]
  },
  {
   "cell_type": "code",
   "execution_count": 25,
   "metadata": {},
   "outputs": [
    {
     "name": "stdout",
     "output_type": "stream",
     "text": [
      "                            OLS Regression Results                            \n",
      "==============================================================================\n",
      "Dep. Variable:                      Y   R-squared:                       0.650\n",
      "Model:                            OLS   Adj. R-squared:                  0.639\n",
      "Method:                 Least Squares   F-statistic:                     59.51\n",
      "Date:                Mon, 13 Nov 2023   Prob (F-statistic):           7.99e-22\n",
      "Time:                        00:13:43   Log-Likelihood:                -377.99\n",
      "No. Observations:                 100   AIC:                             764.0\n",
      "Df Residuals:                      96   BIC:                             774.4\n",
      "Df Model:                           3                                         \n",
      "Covariance Type:            nonrobust                                         \n",
      "==============================================================================\n",
      "                 coef    std err          t      P>|t|      [0.025      0.975]\n",
      "------------------------------------------------------------------------------\n",
      "Intercept    -10.4188      2.865     -3.637      0.000     -16.106      -4.732\n",
      "FL             2.5281      0.208     12.149      0.000       2.115       2.941\n",
      "OPM           24.8478      7.542      3.295      0.001       9.878      39.818\n",
      "TAT            8.5518      2.205      3.879      0.000       4.176      12.928\n",
      "==============================================================================\n",
      "Omnibus:                       26.748   Durbin-Watson:                   1.921\n",
      "Prob(Omnibus):                  0.000   Jarque-Bera (JB):               76.291\n",
      "Skew:                           0.876   Prob(JB):                     2.71e-17\n",
      "Kurtosis:                       6.904   Cond. No.                         50.1\n",
      "==============================================================================\n",
      "\n",
      "Notes:\n",
      "[1] Standard Errors assume that the covariance matrix of the errors is correctly specified.\n"
     ]
    }
   ],
   "source": [
    "formula = \"Y ~ FL + OPM + TAT\"\n",
    "mod = smf.ols(formula=formula, data=data)\n",
    "res = mod.fit()\n",
    "res.summary()\n",
    "\n",
    "print(res.summary())"
   ]
  },
  {
   "cell_type": "code",
   "execution_count": 26,
   "metadata": {},
   "outputs": [
    {
     "name": "stdout",
     "output_type": "stream",
     "text": [
      "   Company    CR    DA     FL     OPM      RT   TAT     DE      Y     PT  \\\n",
      "0    2Q3DU  1.19  0.20   2.21  0.0770    6.66  0.40   0.43   1.95   5.93   \n",
      "1    46JNq  0.29  0.64  10.14  0.2037   20.04  0.36   6.52   7.26  43.48   \n",
      "2    4ISOt  2.93  0.04   1.43  0.3055    6.55  0.72   0.06   7.78  18.38   \n",
      "3    5AWwu  1.03  0.25   3.55  0.0708  146.43  1.80   0.88   6.17   5.15   \n",
      "4    5hbZR  1.20  0.47   0.00  0.1677   30.92  0.93   0.00   0.00  17.06   \n",
      "..     ...   ...   ...    ...     ...     ...   ...    ...    ...    ...   \n",
      "95   yhCH3  1.50  0.37   2.33  0.2557    4.92  0.41   0.85   5.18   6.83   \n",
      "96   YqdX2  0.70  0.27   2.57  0.2363   16.11  0.64   0.69   7.40   2.70   \n",
      "97   yUjyz  1.49  0.12   2.36  0.2576    8.64  0.51   0.28   5.99   7.59   \n",
      "98   YX515  2.30  0.64  25.03  0.3758    7.48  0.31  16.08  41.57  10.54   \n",
      "99   zCRGR  1.40  0.21   2.35  0.2391    7.08  0.45   0.50   3.35   5.53   \n",
      "\n",
      "                    Sector  Y_predicted     rozdil  \n",
      "0              Industrials     0.502359  -1.447641  \n",
      "1   Communication Services    23.356512  16.096512  \n",
      "2   Communication Services     6.944718  -0.835282  \n",
      "3       Consumer Defensive    15.708512   9.538512  \n",
      "4        Consumer Cyclical     1.701358   1.701358  \n",
      "..                     ...          ...        ...  \n",
      "95              Healthcare     5.331550   0.151550  \n",
      "96      Consumer Defensive     7.423167   0.023167  \n",
      "97              Technology     6.309785   0.319785  \n",
      "98              Technology    64.848968  23.278968  \n",
      "99              Healthcare     5.311711   1.961711  \n",
      "\n",
      "[100 rows x 13 columns]\n"
     ]
    }
   ],
   "source": [
    "data['Y_predicted'] = res.predict(data)\n",
    "data[\"rozdil\"] = data[\"Y_predicted\"]- data[\"Y\"]\n",
    "print(data)\n",
    "\n",
    "\n",
    "\n",
    "\n"
   ]
  },
  {
   "cell_type": "code",
   "execution_count": 27,
   "metadata": {},
   "outputs": [
    {
     "name": "stdout",
     "output_type": "stream",
     "text": [
      "Company              SYXLy\n",
      "CR                    0.76\n",
      "DA                    0.37\n",
      "FL                   18.64\n",
      "OPM                 0.0631\n",
      "RT                   12.44\n",
      "TAT                   0.41\n",
      "DE                    6.93\n",
      "Y                     6.97\n",
      "PT                     3.4\n",
      "Sector         Industrials\n",
      "Y_predicted      41.779545\n",
      "rozdil           34.809545\n",
      "Name: 79, dtype: object\n"
     ]
    }
   ],
   "source": [
    "\n",
    "print(data.iloc[data[\"rozdil\"].idxmax()])\n",
    "\n",
    "# Potenciálně nejvíce podhodnocenou akcií je akcie společnosti SYXLy."
   ]
  },
  {
   "cell_type": "code",
   "execution_count": 28,
   "metadata": {},
   "outputs": [
    {
     "name": "stdout",
     "output_type": "stream",
     "text": [
      "                    Robust linear Model Regression Results                    \n",
      "==============================================================================\n",
      "Dep. Variable:                      Y   No. Observations:                  100\n",
      "Model:                            RLM   Df Residuals:                       96\n",
      "Method:                          IRLS   Df Model:                            3\n",
      "Norm:                          HuberT                                         \n",
      "Scale Est.:                       mad                                         \n",
      "Cov Type:                          H1                                         \n",
      "Date:                Mon, 13 Nov 2023                                         \n",
      "Time:                        00:13:44                                         \n",
      "No. Iterations:                    50                                         \n",
      "==============================================================================\n",
      "                 coef    std err          z      P>|z|      [0.025      0.975]\n",
      "------------------------------------------------------------------------------\n",
      "const         -6.7581      1.822     -3.709      0.000     -10.329      -3.187\n",
      "FL             2.2847      0.132     17.263      0.000       2.025       2.544\n",
      "OPM           17.6621      4.797      3.682      0.000       8.261      27.063\n",
      "TAT            5.2533      1.402      3.747      0.000       2.505       8.001\n",
      "==============================================================================\n",
      "\n",
      "If the model instance has been used for another fit with different fit parameters, then the fit options might not be the correct ones anymore .\n"
     ]
    }
   ],
   "source": [
    "# Bonus 1\n",
    "\n",
    "\n",
    "import statsmodels.api as sm\n",
    "\n",
    "data_x = data[[\"Y\", \"FL\", \"OPM\", \"TAT\"]]\n",
    "\n",
    "data_x = sm.add_constant(data_x.drop(columns=[\"Y\"]))\n",
    "\n",
    "rlm_model = sm.RLM(data[\"Y\"], data_x)\n",
    "rlm_results = rlm_model.fit()\n",
    "\n",
    "print(rlm_results.summary())\n",
    "\n",
    "\n",
    "\n"
   ]
  },
  {
   "cell_type": "code",
   "execution_count": 29,
   "metadata": {},
   "outputs": [
    {
     "name": "stdout",
     "output_type": "stream",
     "text": [
      "Company                    vwxyQ\n",
      "CR                          1.19\n",
      "DA                          0.47\n",
      "FL                         32.52\n",
      "OPM                       0.1077\n",
      "RT                           0.0\n",
      "TAT                         1.92\n",
      "DE                         15.16\n",
      "Y                          90.79\n",
      "PT                          5.51\n",
      "Sector         Consumer Cyclical\n",
      "Y_predicted            79.527582\n",
      "rozdil                   0.10132\n",
      "Name: 88, dtype: object\n"
     ]
    }
   ],
   "source": [
    "data[\"Y_predicted\"] = rlm_results.predict(data_x)\n",
    "undervalued_stock = data.loc[data[\"Y_predicted\"].idxmax()]\n",
    "print(undervalued_stock)\n",
    "\n",
    "# V případě robustní regese je podhodnocená akcie jiná, než v případě regresního modelu. Jedná se o akcii společnosti vwxyQ."
   ]
  },
  {
   "cell_type": "code",
   "execution_count": 30,
   "metadata": {},
   "outputs": [
    {
     "name": "stdout",
     "output_type": "stream",
     "text": [
      "                            OLS Regression Results                            \n",
      "==============================================================================\n",
      "Dep. Variable:                      Y   R-squared:                       0.664\n",
      "Model:                            OLS   Adj. R-squared:                  0.635\n",
      "Method:                 Least Squares   F-statistic:                     22.52\n",
      "Date:                Mon, 13 Nov 2023   Prob (F-statistic):           1.45e-18\n",
      "Time:                        00:13:44   Log-Likelihood:                -375.94\n",
      "No. Observations:                 100   AIC:                             769.9\n",
      "Df Residuals:                      91   BIC:                             793.3\n",
      "Df Model:                           8                                         \n",
      "Covariance Type:            nonrobust                                         \n",
      "==============================================================================\n",
      "                 coef    std err          t      P>|t|      [0.025      0.975]\n",
      "------------------------------------------------------------------------------\n",
      "Intercept    -11.0176      5.347     -2.061      0.042     -21.638      -0.397\n",
      "CR             1.5014      1.240      1.211      0.229      -0.961       3.964\n",
      "DA            -5.2206      9.370     -0.557      0.579     -23.834      13.392\n",
      "RT            -0.0063      0.021     -0.300      0.765      -0.048       0.035\n",
      "DE            -0.7283      2.066     -0.352      0.725      -4.833       3.376\n",
      "PT            -0.0644      0.096     -0.669      0.505      -0.256       0.127\n",
      "FL             3.0104      1.060      2.840      0.006       0.905       5.116\n",
      "OPM           23.4665      8.076      2.906      0.005       7.425      39.508\n",
      "TAT            8.4254      2.351      3.584      0.001       3.756      13.095\n",
      "==============================================================================\n",
      "Omnibus:                       29.136   Durbin-Watson:                   1.900\n",
      "Prob(Omnibus):                  0.000   Jarque-Bera (JB):              101.551\n",
      "Skew:                           0.881   Prob(JB):                     8.88e-23\n",
      "Kurtosis:                       7.611   Cond. No.                         592.\n",
      "==============================================================================\n",
      "\n",
      "Notes:\n",
      "[1] Standard Errors assume that the covariance matrix of the errors is correctly specified.\n",
      "0     0.000046\n",
      "1     0.037578\n",
      "2     0.000173\n",
      "3     0.008283\n",
      "4     0.000082\n",
      "        ...   \n",
      "95    0.000005\n",
      "96    0.000022\n",
      "97    0.000051\n",
      "98    1.097142\n",
      "99    0.000113\n",
      "Name: Cook_Distance, Length: 100, dtype: float64\n"
     ]
    }
   ],
   "source": [
    "# Bonus 2\n",
    "\n",
    "from statsmodels.stats.outliers_influence import OLSInfluence\n",
    "\n",
    "formula = \"Y ~ CR + DA + RT + DE + PT + FL + OPM + TAT\"\n",
    "mod = smf.ols(formula=formula, data=data)\n",
    "res = mod.fit()\n",
    "res.summary()\n",
    "influence = OLSInfluence(res)\n",
    "data[\"Cook_Distance\"] = influence.cooks_distance[0]\n",
    "\n",
    "print(res.summary())\n",
    "print(data[\"Cook_Distance\"])\n",
    "\n"
   ]
  },
  {
   "cell_type": "code",
   "execution_count": 31,
   "metadata": {},
   "outputs": [
    {
     "name": "stdout",
     "output_type": "stream",
     "text": [
      "                            OLS Regression Results                            \n",
      "==============================================================================\n",
      "Dep. Variable:                      Y   R-squared:                       0.688\n",
      "Model:                            OLS   Adj. R-squared:                  0.660\n",
      "Method:                 Least Squares   F-statistic:                     24.76\n",
      "Date:                Mon, 13 Nov 2023   Prob (F-statistic):           1.06e-19\n",
      "Time:                        00:13:44   Log-Likelihood:                -367.74\n",
      "No. Observations:                  99   AIC:                             753.5\n",
      "Df Residuals:                      90   BIC:                             776.8\n",
      "Df Model:                           8                                         \n",
      "Covariance Type:            nonrobust                                         \n",
      "==============================================================================\n",
      "                 coef    std err          t      P>|t|      [0.025      0.975]\n",
      "------------------------------------------------------------------------------\n",
      "Intercept     -6.0524      5.364     -1.128      0.262     -16.708       4.604\n",
      "CR             1.4779      1.186      1.246      0.216      -0.878       3.834\n",
      "DA           -16.4346      9.678     -1.698      0.093     -35.661       2.792\n",
      "RT            -0.0003      0.020     -0.013      0.990      -0.040       0.040\n",
      "DE             4.2726      2.560      1.669      0.099      -0.814       9.359\n",
      "PT            -0.0192      0.093     -0.206      0.837      -0.204       0.166\n",
      "FL             0.8796      1.228      0.716      0.476      -1.561       3.320\n",
      "OPM           22.9074      7.728      2.964      0.004       7.555      38.260\n",
      "TAT            7.9619      2.254      3.533      0.001       3.484      12.440\n",
      "==============================================================================\n",
      "Omnibus:                       20.217   Durbin-Watson:                   1.937\n",
      "Prob(Omnibus):                  0.000   Jarque-Bera (JB):               53.822\n",
      "Skew:                           0.649   Prob(JB):                     2.05e-12\n",
      "Kurtosis:                       6.371   Cond. No.                         640.\n",
      "==============================================================================\n",
      "\n",
      "Notes:\n",
      "[1] Standard Errors assume that the covariance matrix of the errors is correctly specified.\n"
     ]
    }
   ],
   "source": [
    "outliers_cook = data[\"Cook_Distance\"] > 1\n",
    "data_no_outliers_cook = data.loc[~outliers_cook]\n",
    "\n",
    "mod_no_outliers_cook = smf.ols(formula=formula, data=data_no_outliers_cook)\n",
    "res_no_outliers_cook = mod_no_outliers_cook.fit()\n",
    "print(res_no_outliers_cook.summary())\n",
    "\n"
   ]
  },
  {
   "cell_type": "code",
   "execution_count": 32,
   "metadata": {},
   "outputs": [
    {
     "name": "stdout",
     "output_type": "stream",
     "text": [
      "Company                       jhFdg\n",
      "CR                             1.09\n",
      "DA                             0.48\n",
      "FL                             24.7\n",
      "OPM                          0.1913\n",
      "RT                            13.43\n",
      "TAT                            1.16\n",
      "DE                             11.9\n",
      "Y                            109.24\n",
      "PT                             4.76\n",
      "Sector           Consumer Defensive\n",
      "Y_predicted               59.145578\n",
      "rozdil                   -42.540694\n",
      "Cook_Distance              0.396365\n",
      "Name: 45, dtype: object\n"
     ]
    }
   ],
   "source": [
    "undervalued_stock_no_outliers_cook = data_no_outliers_cook.loc[data_no_outliers_cook[\"Y\"].idxmax()]\n",
    "print(undervalued_stock_no_outliers_cook)\n",
    "\n",
    "# potenciálně nejvíce podhodnocenou akcií, v případě vyloučení outliners, je akcie společnosti jhFdg."
   ]
  },
  {
   "cell_type": "code",
   "execution_count": 33,
   "metadata": {},
   "outputs": [
    {
     "name": "stdout",
     "output_type": "stream",
     "text": [
      "                            OLS Regression Results                            \n",
      "==============================================================================\n",
      "Dep. Variable:                      Y   R-squared:                       0.714\n",
      "Model:                            OLS   Adj. R-squared:                  0.655\n",
      "Method:                 Least Squares   F-statistic:                     12.04\n",
      "Date:                Mon, 13 Nov 2023   Prob (F-statistic):           8.25e-16\n",
      "Time:                        00:13:44   Log-Likelihood:                -367.95\n",
      "No. Observations:                 100   AIC:                             771.9\n",
      "Df Residuals:                      82   BIC:                             818.8\n",
      "Df Model:                          17                                         \n",
      "Covariance Type:            nonrobust                                         \n",
      "====================================================================================================\n",
      "                                       coef    std err          t      P>|t|      [0.025      0.975]\n",
      "----------------------------------------------------------------------------------------------------\n",
      "Intercept                           -7.4799      7.709     -0.970      0.335     -22.816       7.857\n",
      "Sector[T.Communication Services]    -3.7782      7.099     -0.532      0.596     -17.901      10.344\n",
      "Sector[T.Conglomerates]             -4.7419     12.308     -0.385      0.701     -29.226      19.742\n",
      "Sector[T.Consumer Cyclical]          3.0960      7.001      0.442      0.659     -10.831      17.023\n",
      "Sector[T.Consumer Defensive]        -0.3148      7.466     -0.042      0.966     -15.167      14.537\n",
      "Sector[T.Energy]                    -6.1282      7.521     -0.815      0.418     -21.089       8.833\n",
      "Sector[T.Financial Services]        10.5386      9.441      1.116      0.268      -8.243      29.320\n",
      "Sector[T.Healthcare]                -4.0329      6.689     -0.603      0.548     -17.340       9.275\n",
      "Sector[T.Industrials]               -7.7802      6.933     -1.122      0.265     -21.572       6.012\n",
      "Sector[T.Technology]                 1.2953      6.753      0.192      0.848     -12.139      14.730\n",
      "CR                                   1.3840      1.266      1.093      0.277      -1.134       3.902\n",
      "DA                                  -2.1773      9.928     -0.219      0.827     -21.926      17.572\n",
      "RT                                  -0.0120      0.022     -0.544      0.588      -0.056       0.032\n",
      "DE                                  -1.3182      2.175     -0.606      0.546      -5.645       3.009\n",
      "PT                                  -0.0806      0.104     -0.776      0.440      -0.287       0.126\n",
      "FL                                   3.2184      1.120      2.873      0.005       0.990       5.447\n",
      "OPM                                 17.4452      8.742      1.996      0.049       0.055      34.835\n",
      "TAT                                  7.0691      2.558      2.763      0.007       1.980      12.158\n",
      "==============================================================================\n",
      "Omnibus:                       29.150   Durbin-Watson:                   1.819\n",
      "Prob(Omnibus):                  0.000   Jarque-Bera (JB):              100.330\n",
      "Skew:                           0.887   Prob(JB):                     1.64e-22\n",
      "Kurtosis:                       7.575   Cond. No.                     1.16e+03\n",
      "==============================================================================\n",
      "\n",
      "Notes:\n",
      "[1] Standard Errors assume that the covariance matrix of the errors is correctly specified.\n",
      "[2] The condition number is large, 1.16e+03. This might indicate that there are\n",
      "strong multicollinearity or other numerical problems.\n"
     ]
    }
   ],
   "source": [
    "# Bonus 3\n",
    "\n",
    "import patsy\n",
    "\n",
    "# One-Hot Encode \n",
    "data_encoded = patsy.dmatrix(\"0 + Sector\", data, return_type='dataframe')\n",
    "\n",
   
    "data_combined = pd.concat([data, data_encoded], axis=1)\n",
    "\n",
    "# Original model with One-Hot Encoded 'Sector'\n",
    "formula = \"Y ~ CR + DA + RT + DE + PT + FL + OPM + TAT + Sector\"\n",
    "mod = smf.ols(formula=formula, data=data_combined)\n",
    "res = mod.fit()\n",
    "print(res.summary())\n",
    "\n",
    "# koeficienty pro každý sektor¨\n",
    "sector_coefficients = res.params.filter(like='Sector')\n",
    "\n",
    "positive_sectors = sector_coefficients[sector_coefficients > 0].index\n",
    "negative_sectors = sector_coefficients[sector_coefficients < 0].index\n",
    "\n",
    "# Sektory s kladným koeficientem: Consumer Cyclical, Financial Services, Technology\n",
    "# Sektory se záporným koeficientem: Communication Services, Conglomerates, Consumer Defensive, Energy, Healthcare, Industrials"
   ]
  }
 ],
 "metadata": {
  "kernelspec": {
   "display_name": "Python 3",
   "language": "python",
   "name": "python3"
  },
  "language_info": {
   "codemirror_mode": {
    "name": "ipython",
    "version": 3
   },
   "file_extension": ".py",
   "mimetype": "text/x-python",
   "name": "python",
   "nbconvert_exporter": "python",
   "pygments_lexer": "ipython3",
   "version": "3.10.4"
  }
 },
 "nbformat": 4,
 "nbformat_minor": 2
}
